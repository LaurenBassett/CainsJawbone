{
 "cells": [
  {
   "cell_type": "code",
   "execution_count": 6,
   "metadata": {},
   "outputs": [],
   "source": [
    "from arango import ArangoClient\n",
    "import math\n",
    "import string"
   ]
  },
  {
   "cell_type": "code",
   "execution_count": 7,
   "metadata": {},
   "outputs": [],
   "source": [
    "client = ArangoClient(hosts='http://127.0.0.1:8529')\n",
    "db = client.db('_system', username='root', password = 'openSesame')\n",
    "db.collections()\n",
    "pages = db.collection(\"Page\")\n",
    "people = db.collection(\"People\")\n",
    "places = db.collection(\"Places\")\n",
    "count_of_possible_solutions= math.factorial(100)"
   ]
  },
  {
   "cell_type": "markdown",
   "metadata": {},
   "source": [
    "Cain's Jawbone contains exactly 100 pages, printed out of order. Before doing any analysis of any kind, there are exactly 93326215443944152681699238856266700490715968264381621468592963895217599993229915608941463976156518286253697920827223758251185210916864000000000000000000000000 possible solutions to the puzzle. \n",
    "\n",
    "I think it would be fun to estimate how long it would take to read all possible combinations of the puzzle as we move forward, so I am going to calculate a word count for each page, as well as for the entire book. "
   ]
  },
  {
   "cell_type": "code",
   "execution_count": null,
   "metadata": {},
   "outputs": [],
   "source": [
    "total_count=0\n",
    "for i in range(1,100):\n",
    "    _id = \"Page/\" +str(i)\n",
    "    current_doc = db.document(_id)\n",
    "    text = current_doc['content'].strip()\n",
    "    x = [i.translate(i.maketrans(\"\", \"\", string.punctuation)).isalpha() for i in text.split(\" \")]  \n",
    "    word_count=sum(x)\n",
    "    current_doc['word_count'] = word_count\n",
    "    db.update_document(current_doc)\n",
    "    total_count+=word_count"
   ]
  },
  {
   "cell_type": "code",
   "execution_count": null,
   "metadata": {},
   "outputs": [],
   "source": [
    "def how_long_to_read(possible_solutions, wpm):\n",
    "    #The averageperson reads 238 words per minute.\n",
    "    minutes= possible_solutions*(total_count/wpm)\n",
    "    years = minutes/525600\n",
    "    millenia = years/1000\n",
    "    return(millenia)\n"
   ]
  },
  {
   "cell_type": "code",
   "execution_count": null,
   "metadata": {},
   "outputs": [],
   "source": [
    "init_time = how_long_to_read(count_of_possible_solutions,238)\n",
    "how_long_to_read(count_of_possible_solutions,1000000)"
   ]
  },
  {
   "cell_type": "markdown",
   "metadata": {},
   "source": [
    "So before doing any analytics at all, it will take the average person 1.24E151 Millennia to read all possible combinations. Even at 1,000,000 words per minute, it would take 2.96E147 millenia. "
   ]
  },
  {
   "cell_type": "markdown",
   "metadata": {},
   "source": [
    "I believe the first big thing I can do to lower the number of possible connections is to describe the beginning and ending conditions that may or may not connect pages together. I am iterating through each page, and determining the first and last character. From there, I assign a value based on the type of ending each page has. For example, pages that end with poems can only be linked with pages that start with poems. \n",
    "\n",
    "There are now 720 possible combinations of how these pages can line up together, which is still a lot, but utililzing the context clues and other information will help narrow down the choices. \n",
    "\n",
    "The same is true for the pages that start and end in the middle of sentences. \n",
    "\n",
    "The pages that start with I are a wild card, since I must always be capitalized, it is difficult to know if the pronoun occurs at the beginning or middle of a sentence, however, it still limits the number of pages."
   ]
  },
  {
   "cell_type": "code",
   "execution_count": null,
   "metadata": {},
   "outputs": [],
   "source": [
    "incomplete_starts = 0\n",
    "incomplete_ends = 0\n",
    "poem_starts = 6\n",
    "poem_ends = 6\n",
    "starts_with_i = 0\n",
    "normal_starts = 0\n",
    "normal_ends = 0\n",
    "for i in range(1,100):\n",
    "    _id = \"Page/\" +str(i)\n",
    "    current_doc = db.document(_id)\n",
    "    passage = current_doc['content'].strip()\n",
    "    end = passage[-1]\n",
    "    if i in [12, 23, 41,49,86,92]:\n",
    "        current_doc['end_condition'] = 'poem starts on page'\n",
    "    elif end not in ['.','?', '!', '”']:\n",
    "        current_doc['end_condition'] = 'incomplete end'\n",
    "        incomplete_ends+=1\n",
    "        print(_id)\n",
    "    else: \n",
    "        current_doc['end_condition'] = \"None\"\n",
    "        normal_ends+=1\n",
    "\n",
    "    if i in [13, 24, 42,50,87,93]:\n",
    "        current_doc['start_condition'] = 'poem ends on page'\n",
    "    elif passage[0].islower():\n",
    "        current_doc['start_condition'] = 'incomplete beginning'\n",
    "        incomplete_starts+=1\n",
    "        print(_id)\n",
    "    else:\n",
    "        current_doc['start_condition'] = \"None\"\n",
    "        normal_starts+=1\n",
    "    db.update_document(current_doc)"
   ]
  },
  {
   "cell_type": "markdown",
   "metadata": {},
   "source": [
    "# CHANGE TO ARANGO FUNCTION\n",
    "The following function currently searches each page for a given string. I want to change this to an Arango Analyzer if possible"
   ]
  },
  {
   "cell_type": "code",
   "execution_count": 10,
   "metadata": {},
   "outputs": [],
   "source": [
    "def find_lines_with_phrase(specific_string):\n",
    "    specific_string=specific_string.lower()\n",
    "    new_list = []\n",
    "    idx=0\n",
    "    page_found = []\n",
    "    page_num =1\n",
    "    for page in cains_jawbone:\n",
    "        page_normalize = page.lower()\n",
    "        if specific_string in page_normalize:\n",
    "            new_list.insert(idx, page)\n",
    "            page_found.insert(idx, page_num)\n",
    "            idx+=1\n",
    "        page_num+=1\n",
    "        \n",
    "    if len(new_list)==0:\n",
    "       print(\"no\")\n",
    "    else:\n",
    "\n",
    "        # displaying the lines \n",
    "        # containing given string\n",
    "        lineLen = len(new_list)\n",
    "        print(\"\\n**** Lines containing \\\"\" +specific_string+ \"\\\" ****\\n\")\n",
    "        for i in range(lineLen):\n",
    "            print(\"Page \", page_found[i])\n",
    "            print(end=new_list[i])\n",
    "            print('\\n\\n\\n')\n",
    "        print()"
   ]
  },
  {
   "cell_type": "markdown",
   "metadata": {},
   "source": [
    "We have 4 pages: 66, 67, 73, and 74, that are most likely paired with each other, and 12 poems: 12, 23, 41,49,86,92, 13, 24, 42,50,87,93 that are also likely paired together in some way. \n",
    "\n",
    "This means that there are only 2 combinations to arrange the incomplete pages, and 6! (740) combinations that the pages containing the poems can be arranged. \n",
    "\n",
    "This does not account for the pages directly before or after these pairs, only the pairs themselves, which can still appear anywhere in the novel. \n",
    "\n",
    "However, we have 9 pages that have a limited number of predecessors. \n",
    "\n",
    "I think we cand decrease the total number of pages to:\n",
    "\n",
    "84! * 6! * 2! \n",
    "\n",
    "This has saved us a few millenia. We are now looking at 6.38E122 Millenia to read all possible combinations. Think of all the things you can get done now that you aren't wasting \n",
    "12470323560952561367028935412358888882412853902766811155097386706704162155279925109869007431432624370574548868995653362416626605197646505954304956825600.000000 millenia reading the wrong combination of Cain's Jawbone! \n"
   ]
  },
  {
   "cell_type": "code",
   "execution_count": null,
   "metadata": {},
   "outputs": [],
   "source": [
    "After_end_analysis=math.factorial(84) * math.factorial(6)*2\n",
    "after_end_analysis_time = how_long_to_read(After_end_analysis, 238)\n",
    "time_saved = init_time-after_end_analysis_time\n",
    "'{:f}'.format(time_saved)"
   ]
  },
  {
   "cell_type": "markdown",
   "metadata": {},
   "source": [
    "# Who's Who? \n",
    "Each page mentions specific people. Some are characters, others are authors like Charlotte Bronte, others are animals, and some aren't people at all. Some people might go by multiple names, We aren't sure who is who yet. For now, I am iterating through all the pages and determining a list of characters. This will give us a place to start. The following code iterates through the pages (given a range of pages so I can run these in short bursts) and asks for an input of character names, it then adds a document for each new character, or updates as appropriate. Sometimes the new page doesn't print right away. If that's the case, just write blank. "
   ]
  },
  {
   "cell_type": "code",
   "execution_count": 16,
   "metadata": {},
   "outputs": [
    {
     "name": "stdout",
     "output_type": "stream",
     "text": [
      "--------- Page/41 -----------\n",
      "And then with horrid clearness I had seen a woman---not actually, if I could trust myself, there ; but aiming, directing, inspiring : slim, tawny, petulant, self-willed : wanton, but too calculated to be more than mistress of herself ; the kind that had made England terribly at sea. I looked back on my own youth ; I had been about a bit, as they say ; sometimes, to catch a whale, I had cast a sprat over the windmill. But it was not till my marriage with Henry that old Charles Goodfellow dared to hint that I was going gay. Poor lonely little Bat. But it was still the first dog, I couldn’t help realising that, after my husband’s training. Just as I could not help realising that, had I a mind to go there, I could now get moled and isled on the Selfridget side, though by no means in Bond Street. When I said means, I meant of course lawful ones. Then I remembered Henry’s favourite quotation : But M’Cullough ‘e wanted cabins with marble and maple and all And Brussels an’ Utrecht velvet, and bath and a Social Hall\n",
      "{'_key': 'henry', '_id': 'People/henry', '_rev': '_eTpfXGO---', 'Page': ['Page/2', 'Page/4', 'Page/5', 'Page/11', 'Page/13', 'Page/14', 'Page/16', 'Page/21', 'Page/26', 'Page/31', 'Page/32', 'Page/35', 'Page/41']}\n"
     ]
    }
   ],
   "source": [
    "start = int(input(\"Start on What Page?\"))\n",
    "end = int(input(\"End on What Page?\")) #last on 41\n",
    "for i in range(start,end):\n",
    "    _id = \"Page/\" +str(i)\n",
    "    current_doc = db.document(_id)\n",
    "    \n",
    "    who = []\n",
    "    print(\"---------\", _id,\"-----------\")\n",
    "    print(current_doc['content'])\n",
    "    \n",
    "    names_mentioned = input(\"Enter Names of individuals mentioned on this page, enter -1 to stop.\\n\")\n",
    "    while names_mentioned != \"-1\":\n",
    "        who.append(names_mentioned)\n",
    "        names_mentioned = input(\"Another name? enter -1 to stop.\\n\")\n",
    "    for person in who:\n",
    "        lookup = \"People/\" + person.lower().replace(\" \", \"_\")\n",
    "        if db.has_document(lookup) is False:\n",
    "            name = {\n",
    "                '_id': lookup,\n",
    "                'Page': [_id]\n",
    "            }\n",
    "            people.insert(name)\n",
    "        else:\n",
    "            current_person= db.document(lookup)\n",
    "            current_person['Page'].append(_id)\n",
    "            people.update(current_person)\n",
    "            print(current_person)\n",
    "    continue_prompt = input(\"Would you like to check another page? Y/N\")\n",
    "    if continue_prompt == \"N\":\n",
    "        break\n",
    "    else: \n",
    "        continue    "
   ]
  }
 ],
 "metadata": {
  "interpreter": {
   "hash": "619226f811c1a3cf24b57725644a3f9927ee4a52cb448157cb29be04a2ef885e"
  },
  "kernelspec": {
   "display_name": "Python 3.8.10 64-bit (windows store)",
   "language": "python",
   "name": "python3"
  },
  "language_info": {
   "codemirror_mode": {
    "name": "ipython",
    "version": 3
   },
   "file_extension": ".py",
   "mimetype": "text/x-python",
   "name": "python",
   "nbconvert_exporter": "python",
   "pygments_lexer": "ipython3",
   "version": "3.8.10"
  },
  "orig_nbformat": 4
 },
 "nbformat": 4,
 "nbformat_minor": 2
}
