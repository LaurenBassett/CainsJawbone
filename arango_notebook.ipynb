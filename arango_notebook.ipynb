{
 "cells": [
  {
   "cell_type": "code",
   "execution_count": 3,
   "metadata": {},
   "outputs": [],
   "source": [
    "from arango import ArangoClient\n",
    "import math\n",
    "import string"
   ]
  },
  {
   "cell_type": "code",
   "execution_count": 4,
   "metadata": {},
   "outputs": [],
   "source": [
    "client = ArangoClient(hosts='http://127.0.0.1:8529')\n",
    "db = client.db('_system', username='root', password = 'openSesame')\n",
    "db.collections()\n",
    "pages = db.collection(\"Page\")\n",
    "people = db.collection(\"People\")\n",
    "places = db.collection(\"Places\")\n",
    "count_of_possible_solutions= math.factorial(100)"
   ]
  },
  {
   "cell_type": "markdown",
   "metadata": {},
   "source": [
    "Cain's Jawbone contains exactly 100 pages, printed out of order. Before doing any analysis of any kind, there are exactly 93326215443944152681699238856266700490715968264381621468592963895217599993229915608941463976156518286253697920827223758251185210916864000000000000000000000000 possible solutions to the puzzle. \n",
    "\n",
    "I think it would be fun to estimate how long it would take to read all possible combinations of the puzzle as we move forward, so I am going to calculate a word count for each page, as well as for the entire book. "
   ]
  },
  {
   "cell_type": "code",
   "execution_count": null,
   "metadata": {},
   "outputs": [],
   "source": [
    "total_count=0\n",
    "for i in range(1,100):\n",
    "    _id = \"Page/\" +str(i)\n",
    "    current_doc = db.document(_id)\n",
    "    text = current_doc['content'].strip()\n",
    "    x = [i.translate(i.maketrans(\"\", \"\", string.punctuation)).isalpha() for i in text.split(\" \")]  \n",
    "    word_count=sum(x)\n",
    "    current_doc['word_count'] = word_count\n",
    "    db.update_document(current_doc)\n",
    "    total_count+=word_count"
   ]
  },
  {
   "cell_type": "code",
   "execution_count": null,
   "metadata": {},
   "outputs": [],
   "source": [
    "def how_long_to_read(possible_solutions, wpm):\n",
    "    #The averageperson reads 238 words per minute.\n",
    "    minutes= possible_solutions*(total_count/wpm)\n",
    "    years = minutes/525600\n",
    "    millenia = years/1000\n",
    "    return(millenia)\n"
   ]
  },
  {
   "cell_type": "code",
   "execution_count": null,
   "metadata": {},
   "outputs": [],
   "source": [
    "init_time = how_long_to_read(count_of_possible_solutions,238)\n",
    "how_long_to_read(count_of_possible_solutions,1000000)"
   ]
  },
  {
   "cell_type": "markdown",
   "metadata": {},
   "source": [
    "So before doing any analytics at all, it will take the average person 1.24E151 Millennia to read all possible combinations. Even at 1,000,000 words per minute, it would take 2.96E147 millenia. "
   ]
  },
  {
   "cell_type": "markdown",
   "metadata": {},
   "source": [
    "I believe the first big thing I can do to lower the number of possible connections is to describe the beginning and ending conditions that may or may not connect pages together. I am iterating through each page, and determining the first and last character. From there, I assign a value based on the type of ending each page has. For example, pages that end with poems can only be linked with pages that start with poems. \n",
    "\n",
    "There are now 720 possible combinations of how these pages can line up together, which is still a lot, but utililzing the context clues and other information will help narrow down the choices. \n",
    "\n",
    "The same is true for the pages that start and end in the middle of sentences. \n",
    "\n",
    "The pages that start with I are a wild card, since I must always be capitalized, it is difficult to know if the pronoun occurs at the beginning or middle of a sentence, however, it still limits the number of pages."
   ]
  },
  {
   "cell_type": "code",
   "execution_count": null,
   "metadata": {},
   "outputs": [],
   "source": [
    "incomplete_starts = 0\n",
    "incomplete_ends = 0\n",
    "poem_starts = 6\n",
    "poem_ends = 6\n",
    "starts_with_i = 0\n",
    "normal_starts = 0\n",
    "normal_ends = 0\n",
    "for i in range(1,100):\n",
    "    _id = \"Page/\" +str(i)\n",
    "    current_doc = db.document(_id)\n",
    "    passage = current_doc['content'].strip()\n",
    "    end = passage[-1]\n",
    "    if i in [12, 23, 41,49,86,92]:\n",
    "        current_doc['end_condition'] = 'poem starts on page'\n",
    "    elif end not in ['.','?', '!', '”']:\n",
    "        current_doc['end_condition'] = 'incomplete end'\n",
    "        incomplete_ends+=1\n",
    "        print(_id)\n",
    "    else: \n",
    "        current_doc['end_condition'] = \"None\"\n",
    "        normal_ends+=1\n",
    "\n",
    "    if i in [13, 24, 42,50,87,93]:\n",
    "        current_doc['start_condition'] = 'poem ends on page'\n",
    "    elif passage[0].islower():\n",
    "        current_doc['start_condition'] = 'incomplete beginning'\n",
    "        incomplete_starts+=1\n",
    "        print(_id)\n",
    "    else:\n",
    "        current_doc['start_condition'] = \"None\"\n",
    "        normal_starts+=1\n",
    "    db.update_document(current_doc)"
   ]
  },
  {
   "cell_type": "markdown",
   "metadata": {},
   "source": [
    "# CHANGE TO ARANGO FUNCTION\n",
    "The following function currently searches each page for a given string. I want to change this to an Arango Analyzer if possible"
   ]
  },
  {
   "cell_type": "code",
   "execution_count": 10,
   "metadata": {},
   "outputs": [],
   "source": [
    "def find_lines_with_phrase(specific_string):\n",
    "    specific_string=specific_string.lower()\n",
    "    new_list = []\n",
    "    idx=0\n",
    "    page_found = []\n",
    "    page_num =1\n",
    "    for page in cains_jawbone:\n",
    "        page_normalize = page.lower()\n",
    "        if specific_string in page_normalize:\n",
    "            new_list.insert(idx, page)\n",
    "            page_found.insert(idx, page_num)\n",
    "            idx+=1\n",
    "        page_num+=1\n",
    "        \n",
    "    if len(new_list)==0:\n",
    "       print(\"no\")\n",
    "    else:\n",
    "\n",
    "        # displaying the lines \n",
    "        # containing given string\n",
    "        lineLen = len(new_list)\n",
    "        print(\"\\n**** Lines containing \\\"\" +specific_string+ \"\\\" ****\\n\")\n",
    "        for i in range(lineLen):\n",
    "            print(\"Page \", page_found[i])\n",
    "            print(end=new_list[i])\n",
    "            print('\\n\\n\\n')\n",
    "        print()"
   ]
  },
  {
   "cell_type": "markdown",
   "metadata": {},
   "source": [
    "We have 4 pages: 66, 67, 73, and 74, that are most likely paired with each other, and 12 poems: 12, 23, 41,49,86,92, 13, 24, 42,50,87,93 that are also likely paired together in some way. \n",
    "\n",
    "This means that there are only 2 combinations to arrange the incomplete pages, and 6! (740) combinations that the pages containing the poems can be arranged. \n",
    "\n",
    "This does not account for the pages directly before or after these pairs, only the pairs themselves, which can still appear anywhere in the novel. \n",
    "\n",
    "However, we have 9 pages that have a limited number of predecessors. \n",
    "\n",
    "I think we cand decrease the total number of pages to:\n",
    "\n",
    "84! * 6! * 2! \n",
    "\n",
    "This has saved us a few millenia. We are now looking at 6.38E122 Millenia to read all possible combinations. Think of all the things you can get done now that you aren't wasting \n",
    "12470323560952561367028935412358888882412853902766811155097386706704162155279925109869007431432624370574548868995653362416626605197646505954304956825600.000000 millenia reading the wrong combination of Cain's Jawbone! \n"
   ]
  },
  {
   "cell_type": "code",
   "execution_count": null,
   "metadata": {},
   "outputs": [],
   "source": [
    "After_end_analysis=math.factorial(84) * math.factorial(6)*2\n",
    "after_end_analysis_time = how_long_to_read(After_end_analysis, 238)\n",
    "time_saved = init_time-after_end_analysis_time\n",
    "'{:f}'.format(time_saved)"
   ]
  },
  {
   "cell_type": "markdown",
   "metadata": {},
   "source": [
    "# Who's Who? \n",
    "Each page mentions specific people. Some are characters, others are authors like Charlotte Bronte, others are animals, and some aren't people at all. Some people might go by multiple names, We aren't sure who is who yet. For now, I am iterating through all the pages and determining a list of characters. This will give us a place to start. The following code iterates through the pages (given a range of pages so I can run these in short bursts) and asks for an input of character names, it then adds a document for each new character, or updates as appropriate. Sometimes the new page doesn't print right away. If that's the case, just write blank. "
   ]
  },
  {
   "cell_type": "code",
   "execution_count": 5,
   "metadata": {},
   "outputs": [
    {
     "name": "stdout",
     "output_type": "stream",
     "text": [
      "--------- Page/1 -----------\n",
      "I sit down alone at the appointed table and take up my pen to give all whom it may concern an exact account of what may happen. Call me nervous, call me fey, if you will ; at least this little pen, this mottled black and silver Aquarius, with its nib specially tempered to my order in Amsterdam, is greedy. It has not had much work since it flew so nimbly for the dead old man. As I watch the sea, Casy Ferris passes with down-dropped eyes. Of course, to-day is the day. Her father reminds me of a valetudinarian walrus. But she has, I suppose, to have somebody. St. Lazarus-in-the-Chine is full, no doubt, already. I think she is rash ; but it is none of my business. Where about the graves of the martyrs the whaups are crying, my heart remembers how. Strange that he comes into my head so much to-day. I hope it’s over some flotsam fish that the birds are making whaupee. But all the nice gulls love a sailor. Ugh.\n"
     ]
    },
    {
     "ename": "DocumentRevisionError",
     "evalue": "[HTTP 412][ERR 1200] conflict, _rev values do not match",
     "output_type": "error",
     "traceback": [
      "\u001b[1;31m---------------------------------------------------------------------------\u001b[0m",
      "\u001b[1;31mDocumentRevisionError\u001b[0m                     Traceback (most recent call last)",
      "\u001b[1;32m~\\AppData\\Local\\Temp/ipykernel_4184/1788337751.py\u001b[0m in \u001b[0;36m<module>\u001b[1;34m\u001b[0m\n\u001b[0;32m     26\u001b[0m             \u001b[0mpeople\u001b[0m\u001b[1;33m.\u001b[0m\u001b[0mupdate\u001b[0m\u001b[1;33m(\u001b[0m\u001b[0mcurrent_person\u001b[0m\u001b[1;33m)\u001b[0m\u001b[1;33m\u001b[0m\u001b[1;33m\u001b[0m\u001b[0m\n\u001b[0;32m     27\u001b[0m         \u001b[0mcurrent_doc\u001b[0m\u001b[1;33m[\u001b[0m\u001b[1;34m'People Named'\u001b[0m\u001b[1;33m]\u001b[0m\u001b[1;33m.\u001b[0m\u001b[0mappend\u001b[0m\u001b[1;33m(\u001b[0m\u001b[0mlookup\u001b[0m\u001b[1;33m)\u001b[0m\u001b[1;33m\u001b[0m\u001b[1;33m\u001b[0m\u001b[0m\n\u001b[1;32m---> 28\u001b[1;33m         \u001b[0mpages\u001b[0m\u001b[1;33m.\u001b[0m\u001b[0mupdate\u001b[0m\u001b[1;33m(\u001b[0m\u001b[0mcurrent_doc\u001b[0m\u001b[1;33m)\u001b[0m\u001b[1;33m\u001b[0m\u001b[1;33m\u001b[0m\u001b[0m\n\u001b[0m\u001b[0;32m     29\u001b[0m     \u001b[0mcontinue_prompt\u001b[0m \u001b[1;33m=\u001b[0m \u001b[0minput\u001b[0m\u001b[1;33m(\u001b[0m\u001b[1;34m\"Would you like to check another page? Y/N\"\u001b[0m\u001b[1;33m)\u001b[0m\u001b[1;33m\u001b[0m\u001b[1;33m\u001b[0m\u001b[0m\n\u001b[0;32m     30\u001b[0m     \u001b[1;32mif\u001b[0m \u001b[0mcontinue_prompt\u001b[0m \u001b[1;33m==\u001b[0m \u001b[1;34m\"N\"\u001b[0m\u001b[1;33m:\u001b[0m\u001b[1;33m\u001b[0m\u001b[1;33m\u001b[0m\u001b[0m\n",
      "\u001b[1;32m~\\AppData\\Local\\Packages\\PythonSoftwareFoundation.Python.3.8_qbz5n2kfra8p0\\LocalCache\\local-packages\\Python38\\site-packages\\arango\\collection.py\u001b[0m in \u001b[0;36mupdate\u001b[1;34m(self, document, check_rev, merge, keep_none, return_new, return_old, sync, silent)\u001b[0m\n\u001b[0;32m   2240\u001b[0m             \u001b[1;32mreturn\u001b[0m \u001b[0mresult\u001b[0m\u001b[1;33m\u001b[0m\u001b[1;33m\u001b[0m\u001b[0m\n\u001b[0;32m   2241\u001b[0m \u001b[1;33m\u001b[0m\u001b[0m\n\u001b[1;32m-> 2242\u001b[1;33m         \u001b[1;32mreturn\u001b[0m \u001b[0mself\u001b[0m\u001b[1;33m.\u001b[0m\u001b[0m_execute\u001b[0m\u001b[1;33m(\u001b[0m\u001b[0mrequest\u001b[0m\u001b[1;33m,\u001b[0m \u001b[0mresponse_handler\u001b[0m\u001b[1;33m)\u001b[0m\u001b[1;33m\u001b[0m\u001b[1;33m\u001b[0m\u001b[0m\n\u001b[0m\u001b[0;32m   2243\u001b[0m \u001b[1;33m\u001b[0m\u001b[0m\n\u001b[0;32m   2244\u001b[0m     def replace(\n",
      "\u001b[1;32m~\\AppData\\Local\\Packages\\PythonSoftwareFoundation.Python.3.8_qbz5n2kfra8p0\\LocalCache\\local-packages\\Python38\\site-packages\\arango\\api.py\u001b[0m in \u001b[0;36m_execute\u001b[1;34m(self, request, response_handler)\u001b[0m\n\u001b[0;32m     72\u001b[0m         \u001b[1;33m:\u001b[0m\u001b[1;32mreturn\u001b[0m\u001b[1;33m:\u001b[0m \u001b[0mAPI\u001b[0m \u001b[0mexecution\u001b[0m \u001b[0mresult\u001b[0m\u001b[1;33m.\u001b[0m\u001b[1;33m\u001b[0m\u001b[1;33m\u001b[0m\u001b[0m\n\u001b[0;32m     73\u001b[0m         \"\"\"\n\u001b[1;32m---> 74\u001b[1;33m         \u001b[1;32mreturn\u001b[0m \u001b[0mself\u001b[0m\u001b[1;33m.\u001b[0m\u001b[0m_executor\u001b[0m\u001b[1;33m.\u001b[0m\u001b[0mexecute\u001b[0m\u001b[1;33m(\u001b[0m\u001b[0mrequest\u001b[0m\u001b[1;33m,\u001b[0m \u001b[0mresponse_handler\u001b[0m\u001b[1;33m)\u001b[0m\u001b[1;33m\u001b[0m\u001b[1;33m\u001b[0m\u001b[0m\n\u001b[0m",
      "\u001b[1;32m~\\AppData\\Local\\Packages\\PythonSoftwareFoundation.Python.3.8_qbz5n2kfra8p0\\LocalCache\\local-packages\\Python38\\site-packages\\arango\\executor.py\u001b[0m in \u001b[0;36mexecute\u001b[1;34m(self, request, response_handler)\u001b[0m\n\u001b[0;32m     63\u001b[0m         \"\"\"\n\u001b[0;32m     64\u001b[0m         \u001b[0mresp\u001b[0m \u001b[1;33m=\u001b[0m \u001b[0mself\u001b[0m\u001b[1;33m.\u001b[0m\u001b[0m_conn\u001b[0m\u001b[1;33m.\u001b[0m\u001b[0msend_request\u001b[0m\u001b[1;33m(\u001b[0m\u001b[0mrequest\u001b[0m\u001b[1;33m)\u001b[0m\u001b[1;33m\u001b[0m\u001b[1;33m\u001b[0m\u001b[0m\n\u001b[1;32m---> 65\u001b[1;33m         \u001b[1;32mreturn\u001b[0m \u001b[0mresponse_handler\u001b[0m\u001b[1;33m(\u001b[0m\u001b[0mresp\u001b[0m\u001b[1;33m)\u001b[0m\u001b[1;33m\u001b[0m\u001b[1;33m\u001b[0m\u001b[0m\n\u001b[0m\u001b[0;32m     66\u001b[0m \u001b[1;33m\u001b[0m\u001b[0m\n\u001b[0;32m     67\u001b[0m \u001b[1;33m\u001b[0m\u001b[0m\n",
      "\u001b[1;32m~\\AppData\\Local\\Packages\\PythonSoftwareFoundation.Python.3.8_qbz5n2kfra8p0\\LocalCache\\local-packages\\Python38\\site-packages\\arango\\collection.py\u001b[0m in \u001b[0;36mresponse_handler\u001b[1;34m(resp)\u001b[0m\n\u001b[0;32m   2230\u001b[0m         \u001b[1;32mdef\u001b[0m \u001b[0mresponse_handler\u001b[0m\u001b[1;33m(\u001b[0m\u001b[0mresp\u001b[0m\u001b[1;33m:\u001b[0m \u001b[0mResponse\u001b[0m\u001b[1;33m)\u001b[0m \u001b[1;33m->\u001b[0m \u001b[0mUnion\u001b[0m\u001b[1;33m[\u001b[0m\u001b[0mbool\u001b[0m\u001b[1;33m,\u001b[0m \u001b[0mJson\u001b[0m\u001b[1;33m]\u001b[0m\u001b[1;33m:\u001b[0m\u001b[1;33m\u001b[0m\u001b[1;33m\u001b[0m\u001b[0m\n\u001b[0;32m   2231\u001b[0m             \u001b[1;32mif\u001b[0m \u001b[0mresp\u001b[0m\u001b[1;33m.\u001b[0m\u001b[0mstatus_code\u001b[0m \u001b[1;33m==\u001b[0m \u001b[1;36m412\u001b[0m\u001b[1;33m:\u001b[0m\u001b[1;33m\u001b[0m\u001b[1;33m\u001b[0m\u001b[0m\n\u001b[1;32m-> 2232\u001b[1;33m                 \u001b[1;32mraise\u001b[0m \u001b[0mDocumentRevisionError\u001b[0m\u001b[1;33m(\u001b[0m\u001b[0mresp\u001b[0m\u001b[1;33m,\u001b[0m \u001b[0mrequest\u001b[0m\u001b[1;33m)\u001b[0m\u001b[1;33m\u001b[0m\u001b[1;33m\u001b[0m\u001b[0m\n\u001b[0m\u001b[0;32m   2233\u001b[0m             \u001b[1;32melif\u001b[0m \u001b[1;32mnot\u001b[0m \u001b[0mresp\u001b[0m\u001b[1;33m.\u001b[0m\u001b[0mis_success\u001b[0m\u001b[1;33m:\u001b[0m\u001b[1;33m\u001b[0m\u001b[1;33m\u001b[0m\u001b[0m\n\u001b[0;32m   2234\u001b[0m                 \u001b[1;32mraise\u001b[0m \u001b[0mDocumentUpdateError\u001b[0m\u001b[1;33m(\u001b[0m\u001b[0mresp\u001b[0m\u001b[1;33m,\u001b[0m \u001b[0mrequest\u001b[0m\u001b[1;33m)\u001b[0m\u001b[1;33m\u001b[0m\u001b[1;33m\u001b[0m\u001b[0m\n",
      "\u001b[1;31mDocumentRevisionError\u001b[0m: [HTTP 412][ERR 1200] conflict, _rev values do not match"
     ]
    }
   ],
   "source": [
    "start = int(input(\"Start on What Page?\"))\n",
    "end = int(input(\"End on What Page?\")) #last on 41\n",
    "for i in range(start,end):\n",
    "    _id = \"Page/\" +str(i)\n",
    "    current_doc = db.document(_id)\n",
    "    \n",
    "    who = []\n",
    "    print(\"---------\", _id,\"-----------\")\n",
    "    print(current_doc['content'])\n",
    "    \n",
    "    names_mentioned = input(\"Enter Names of individuals mentioned on this page, enter -1 to stop.\\n\")\n",
    "    while names_mentioned != \"-1\":\n",
    "        who.append(names_mentioned)\n",
    "        names_mentioned = input(\"Another name? enter -1 to stop.\\n\")\n",
    "    for person in who:\n",
    "        lookup = \"People/\" + person.lower().replace(\" \", \"_\")\n",
    "        if db.has_document(lookup) is False:\n",
    "            name = {\n",
    "                '_id': lookup,\n",
    "                'Page': [_id]\n",
    "            }\n",
    "            people.insert(name)\n",
    "        else:\n",
    "            current_person= db.document(lookup)\n",
    "            current_person['Page'].append(_id)\n",
    "            people.update(current_person)\n",
    "        current_doc['People Named'].append(lookup)\n",
    "    pages.update(current_doc)\n",
    "    continue_prompt = input(\"Would you like to check another page? Y/N\")\n",
    "    if continue_prompt == \"N\":\n",
    "        break\n",
    "    else: \n",
    "        continue    "
   ]
  }
 ],
 "metadata": {
  "interpreter": {
   "hash": "619226f811c1a3cf24b57725644a3f9927ee4a52cb448157cb29be04a2ef885e"
  },
  "kernelspec": {
   "display_name": "Python 3.8.10 64-bit (windows store)",
   "language": "python",
   "name": "python3"
  },
  "language_info": {
   "codemirror_mode": {
    "name": "ipython",
    "version": 3
   },
   "file_extension": ".py",
   "mimetype": "text/x-python",
   "name": "python",
   "nbconvert_exporter": "python",
   "pygments_lexer": "ipython3",
   "version": "3.8.10"
  },
  "orig_nbformat": 4
 },
 "nbformat": 4,
 "nbformat_minor": 2
}
