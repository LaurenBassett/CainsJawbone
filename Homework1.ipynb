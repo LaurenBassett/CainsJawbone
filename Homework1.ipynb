{
 "cells": [
  {
   "cell_type": "code",
   "execution_count": null,
   "metadata": {},
   "outputs": [],
   "source": [
    "import numpy as np\n",
    "import matplotlib.pyplot as plt\n",
    "import pandas as pd"
   ]
  },
  {
   "cell_type": "markdown",
   "metadata": {},
   "source": [
    "# 1\n",
    "\n",
    "You are a data scientist and are choosing between three approaches, A, B,\n",
    "and C, to a problem. With approach A you will spend a total of 4 days coding\n",
    "and running an algorithm and it will not produce useful results. With approach\n",
    "B you will spend a total of 3 days coding and running an algorithm and it will\n",
    "not produce useful results. With approach C you will spend 1 day coding and\n",
    "running an algorithm and it will produce useful results. You are equally likely to\n",
    "choose among unselected options. What is the expected time in days for you to\n",
    "obtain the results you are looking for, if you continue to select an unselected\n",
    "option when you do not obtain useful results? What is the variance on this time?\n",
    "\n",
    "Visual of Probabilities:\n",
    "![](HW1Q1.jpg)"
   ]
  },
  {
   "cell_type": "code",
   "execution_count": null,
   "metadata": {},
   "outputs": [],
   "source": [
    "probabilities = [1/6,1/6,1/6,1/6,1/3]\n",
    "days = [8,5,8,4,1]\n",
    "\n",
    "total_odds = []\n",
    "all_variance = []\n",
    "for i in range(len(probabilities)):\n",
    "    total_odds.append(probabilities[i] * days[i])\n",
    "\n",
    "expected_value = sum(total_odds)\n",
    "\n",
    "for j in range(len(total_odds)):\n",
    "    all_variance.append(probabilities[j] * ((days[j] - expected_value)**2))\n",
    "\n",
    "total_variance = sum(all_variance)\n",
    "\n",
    "print(\"The expected value is:\", expected_value, \"days\")\n",
    "print(\"The total variance is:\", total_variance, \"days\")   "
   ]
  },
  {
   "cell_type": "markdown",
   "metadata": {},
   "source": [
    "# 2\n",
    "\n",
    "Suppose if it is sunny or not in Charlottesville depends on the weather of\n",
    "the last three days. Show how this can be modeled as a Markov chain.\n",
    "\n",
    "\n",
    "There are 8 Possibilities, which are shown below, as well as the possible transition matrix. The values that would have a probability (the transition is possible) are colored in blue, all other probabilities are noted with a zero.  Based on this transition Matrix, modeling this weather pattern would be possible in a Markov Chain. \n",
    "\n",
    "![](MarkovTables.jpg)\n",
    "\n",
    "The Node Visual of the Markov Chain would be represented like this:\n",
    "![](MarkovNode.jpg)\n"
   ]
  },
  {
   "cell_type": "markdown",
   "metadata": {},
   "source": [
    "# 3\n",
    "Assume a Gaussian distribution for observations, Xi, i = 1, . . . , N with\n",
    "unknown mean, M, and known variance 5. Suppose the prior for M is Gaussian\n",
    "with variance 10. How large a random sample must be taken (i.e., what is the\n",
    "minimum value for N) to specify an interval having unit length of 1 such that\n",
    "the probability that M lies in this interval is 0.95?\n"
   ]
  },
  {
   "cell_type": "code",
   "execution_count": null,
   "metadata": {},
   "outputs": [],
   "source": [
    "z_score = 1.96 #95% interval \n",
    "a = 0.025\n",
    "\n",
    "\n"
   ]
  },
  {
   "cell_type": "code",
   "execution_count": null,
   "metadata": {},
   "outputs": [],
   "source": []
  },
  {
   "cell_type": "markdown",
   "metadata": {},
   "source": [
    "# 4\n",
    "You have started an online business selling books that are of interest to\n",
    "your customers. A publisher has just given you a large book with photos from\n",
    "famous 20th century photographers. You think this book will appeal to people\n",
    "who have bought art books, history books and coffee table books. In an initial\n",
    "offering of the new book you collect data on purchases of the new book and\n",
    "combine these data with data from the past purchases (see ArtHistBooks.csv).\n",
    "Use Bayesian analysis to give the posterior probabilities for purchases of art\n",
    "books, history books and coffee table books, as well as, the separate probabilities\n",
    "for purchases of the new book given each possible combination of prior\n",
    "purchases of art books, history books and coffee table books. Do this by first\n",
    "using beta priors with values of the hyperparameters that represent lack of prior\n",
    "information. Then compute these probabilities again with beta priors that show\n",
    "strong weighting for low likelihood of a book purchase. Compare your results."
   ]
  },
  {
   "cell_type": "code",
   "execution_count": null,
   "metadata": {},
   "outputs": [],
   "source": [
    "art_data = pd.read_csv('ArtHistBooks.csv')\n",
    "art_data"
   ]
  },
  {
   "cell_type": "code",
   "execution_count": null,
   "metadata": {},
   "outputs": [],
   "source": []
  },
  {
   "cell_type": "markdown",
   "metadata": {},
   "source": []
  },
  {
   "cell_type": "markdown",
   "metadata": {},
   "source": [
    "(10) For each of the following types of distributions, state the support type\n",
    "(single or multivariable and discrete or continuous), the formula for the PMF or\n",
    "PDF, the parameters, the support, the mean, and some typical uses of the\n",
    "distribution. You may use whatever source(s) you want, including for example\n",
    "Wikipedia.\n",
    "(a) Bernoulli Distribution\n",
    "(b) Binomial Distribution\n",
    "(c) Poisson Distribution\n",
    "(d) Uniform Distribution\n",
    "(e) Beta Distribution\n",
    "(f) Gamma Distribution\n",
    "(g) Gaussian Distribution\n",
    "(h) t Distribution\n",
    "(i) Cauchy Distribution\n",
    "(j) Multinomial Distribution\n",
    "k) Dirichlet Distribution\n",
    "(l) Multivariate Gaussian Distribution\n",
    "(m) Multivariate t Distribution\n",
    "(n) Wishart Distribution\n",
    "\n"
   ]
  },
  {
   "cell_type": "markdown",
   "metadata": {},
   "source": [
    "\n",
    "7. (15) Using the Python Notebook https://www.kaggle.com/billbasener/pt2-\n",
    "probabilities-likelihoods-and-bayes-theorem, complete the challenge question\n",
    "from Section 6: Modify the code from Section 5 to and add the ability to use the\n",
    "posterior from conjugate prior function to output the posterior probability\n",
    "parameters given parameters and for a Gaussian Likelihood with known variance\n",
    "σ2, and use your modified function to create the Prior, Likelihood, Posterior plots\n",
    "as in Section 5 of the notebook."
   ]
  },
  {
   "cell_type": "code",
   "execution_count": null,
   "metadata": {},
   "outputs": [],
   "source": []
  }
 ],
 "metadata": {
  "kernelspec": {
   "display_name": "Python 3.8.10 64-bit (windows store)",
   "language": "python",
   "name": "python3"
  },
  "language_info": {
   "codemirror_mode": {
    "name": "ipython",
    "version": 3
   },
   "file_extension": ".py",
   "mimetype": "text/x-python",
   "name": "python",
   "nbconvert_exporter": "python",
   "pygments_lexer": "ipython3",
   "version": "3.8.10"
  },
  "orig_nbformat": 4,
  "vscode": {
   "interpreter": {
    "hash": "619226f811c1a3cf24b57725644a3f9927ee4a52cb448157cb29be04a2ef885e"
   }
  }
 },
 "nbformat": 4,
 "nbformat_minor": 2
}
