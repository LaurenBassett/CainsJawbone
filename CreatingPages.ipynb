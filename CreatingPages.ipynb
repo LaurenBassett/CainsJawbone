{
 "cells": [
  {
   "cell_type": "code",
   "execution_count": null,
   "metadata": {},
   "outputs": [],
   "source": [
    "import pandas as py"
   ]
  },
  {
   "cell_type": "code",
   "execution_count": 18,
   "metadata": {},
   "outputs": [],
   "source": [
    "cains_jawbone= open(\"CainsJawbone[Original].txt\", \"r\", encoding='utf-8').read().splitlines()\n"
   ]
  },
  {
   "cell_type": "code",
   "execution_count": 33,
   "metadata": {},
   "outputs": [
    {
     "data": {
      "text/plain": [
       "'I dimly guess why the old dead so wanted this. I had worked for him, Henry had worked for him. If I could get up, as, believe me, I cannot, I would have a thing to say to her. She lolls over at me gloating, her mouth blood-tinted on the puma freckle of her beauty. Why should I think of Henry at this particular juncture? I have it. Scotland Yard, of course. And little ‘twill matter to one. A sorry thing to be last noticed : the buttonhole has escaped from the buttonholer. He, the reckless old cock, slips down past Woolworth’s and she continues full-sail toward the Kursal, as flush---oh, you wicked woman---as May. The girl is smiling at me. That’s not so good. Here I shake off the bur o’ the world, man’s congregation shun. O beastly woman. You know not how ill’s all here, about my heart ; but I know. Henry, I feel it, is for the first and last time getting out of hand. Good-bye, Henry. He drops awa. . . . .'"
      ]
     },
     "execution_count": 33,
     "metadata": {},
     "output_type": "execute_result"
    }
   ],
   "source": [
    "cains_jawbone[99]"
   ]
  },
  {
   "cell_type": "code",
   "execution_count": 37,
   "metadata": {},
   "outputs": [],
   "source": [
    "\n",
    "filenames=[]\n",
    "for i in range(1,101):\n",
    "    filenames.append('Text/Page'+str(i)+\".txt\")"
   ]
  },
  {
   "cell_type": "code",
   "execution_count": 39,
   "metadata": {},
   "outputs": [],
   "source": [
    "i=0\n",
    "for file in filenames:\n",
    "    with open(file, \"w\", encoding='utf-8') as out:\n",
    "        out.write(cains_jawbone[i])\n",
    "        i+=1"
   ]
  },
  {
   "cell_type": "code",
   "execution_count": 35,
   "metadata": {},
   "outputs": [
    {
     "data": {
      "text/plain": [
       "'Page100.txt'"
      ]
     },
     "execution_count": 35,
     "metadata": {},
     "output_type": "execute_result"
    }
   ],
   "source": [
    "filenames[-1]"
   ]
  }
 ],
 "metadata": {
  "interpreter": {
   "hash": "619226f811c1a3cf24b57725644a3f9927ee4a52cb448157cb29be04a2ef885e"
  },
  "kernelspec": {
   "display_name": "Python 3.8.10 64-bit (windows store)",
   "language": "python",
   "name": "python3"
  },
  "language_info": {
   "codemirror_mode": {
    "name": "ipython",
    "version": 3
   },
   "file_extension": ".py",
   "mimetype": "text/x-python",
   "name": "python",
   "nbconvert_exporter": "python",
   "pygments_lexer": "ipython3",
   "version": "3.8.10"
  },
  "orig_nbformat": 4
 },
 "nbformat": 4,
 "nbformat_minor": 2
}
